{
  "nbformat": 4,
  "nbformat_minor": 0,
  "metadata": {
    "colab": {
      "name": "Untitled0.ipynb",
      "provenance": [],
      "collapsed_sections": []
    },
    "kernelspec": {
      "name": "python3",
      "display_name": "Python 3"
    },
    "language_info": {
      "name": "python"
    }
  },
  "cells": [
    {
      "cell_type": "code",
      "metadata": {
        "id": "8zPsEVWV173T"
      },
      "source": [
        "import numpy as np\n",
        "import pandas as pd\n",
        "from sklearn.feature_extraction.text import TfidfVectorizer\n",
        "import sklearn.feature_extraction.text as text\n",
        "from sklearn import model_selection, preprocessing, linear_model, naive_bayes, metrics, svm\n",
        "from sklearn.naive_bayes import MultinomialNB\n",
        "from sklearn.linear_model import LogisticRegression\n",
        "from sklearn.ensemble import RandomForestClassifier\n",
        "from sklearn.svm import LinearSVC\n",
        "from sklearn.model_selection import cross_val_score\n",
        "from sklearn.model_selection import train_test_split\n"
      ],
      "execution_count": 1,
      "outputs": []
    },
    {
      "cell_type": "code",
      "metadata": {
        "colab": {
          "base_uri": "https://localhost:8080/"
        },
        "id": "kx_gy1TKgVjY",
        "outputId": "3d6e594b-dc4d-4dce-f039-9e292339faf1"
      },
      "source": [
        "cc_train = pd.read_csv('/content/Edureka_Consumer_Complaints_train.csv', engine='python',encoding='utf-8',error_bad_lines=False)\n",
        "cc_test = pd.read_csv('/content/Edureka_Consumer_Complaints_test.csv',engine='python',encoding='utf-8',error_bad_lines=False)"
      ],
      "execution_count": 2,
      "outputs": [
        {
          "output_type": "stream",
          "text": [
            "Skipping line 116190: unexpected end of data\n"
          ],
          "name": "stderr"
        }
      ]
    },
    {
      "cell_type": "code",
      "metadata": {
        "colab": {
          "base_uri": "https://localhost:8080/",
          "height": 590
        },
        "id": "A4WBn0dgrxgh",
        "outputId": "47282a66-4701-42f1-c266-93fd7402f5a8"
      },
      "source": [
        "cc_train.head()"
      ],
      "execution_count": 3,
      "outputs": [
        {
          "output_type": "execute_result",
          "data": {
            "text/html": [
              "<div>\n",
              "<style scoped>\n",
              "    .dataframe tbody tr th:only-of-type {\n",
              "        vertical-align: middle;\n",
              "    }\n",
              "\n",
              "    .dataframe tbody tr th {\n",
              "        vertical-align: top;\n",
              "    }\n",
              "\n",
              "    .dataframe thead th {\n",
              "        text-align: right;\n",
              "    }\n",
              "</style>\n",
              "<table border=\"1\" class=\"dataframe\">\n",
              "  <thead>\n",
              "    <tr style=\"text-align: right;\">\n",
              "      <th></th>\n",
              "      <th>Date received</th>\n",
              "      <th>Product</th>\n",
              "      <th>Sub-product</th>\n",
              "      <th>Issue</th>\n",
              "      <th>Sub-issue</th>\n",
              "      <th>Consumer complaint narrative</th>\n",
              "      <th>Company public response</th>\n",
              "      <th>Company</th>\n",
              "      <th>State</th>\n",
              "      <th>ZIP code</th>\n",
              "      <th>Tags</th>\n",
              "      <th>Consumer consent provided?</th>\n",
              "      <th>Submitted via</th>\n",
              "      <th>Date sent to company</th>\n",
              "      <th>Company response to consumer</th>\n",
              "      <th>Timely response?</th>\n",
              "      <th>Consumer disputed?</th>\n",
              "      <th>Complaint ID</th>\n",
              "    </tr>\n",
              "  </thead>\n",
              "  <tbody>\n",
              "    <tr>\n",
              "      <th>0</th>\n",
              "      <td>2015-10-14</td>\n",
              "      <td>Credit reporting</td>\n",
              "      <td>NaN</td>\n",
              "      <td>Incorrect information on credit report</td>\n",
              "      <td>Information is not mine</td>\n",
              "      <td>NaN</td>\n",
              "      <td>NaN</td>\n",
              "      <td>Equifax</td>\n",
              "      <td>GA</td>\n",
              "      <td>30134</td>\n",
              "      <td>NaN</td>\n",
              "      <td>Consent not provided</td>\n",
              "      <td>Web</td>\n",
              "      <td>2015-10-14</td>\n",
              "      <td>Closed with explanation</td>\n",
              "      <td>Yes</td>\n",
              "      <td>No</td>\n",
              "      <td>1605653</td>\n",
              "    </tr>\n",
              "    <tr>\n",
              "      <th>1</th>\n",
              "      <td>2015-04-26</td>\n",
              "      <td>Bank account or service</td>\n",
              "      <td>Other bank product/service</td>\n",
              "      <td>Deposits and withdrawals</td>\n",
              "      <td>NaN</td>\n",
              "      <td>RE : XXXX XXXX XXXX-PRIVILEGED AND CONFIDENTIA...</td>\n",
              "      <td>NaN</td>\n",
              "      <td>Wells Fargo &amp; Company</td>\n",
              "      <td>GA</td>\n",
              "      <td>319XX</td>\n",
              "      <td>NaN</td>\n",
              "      <td>Consent provided</td>\n",
              "      <td>Web</td>\n",
              "      <td>2015-04-26</td>\n",
              "      <td>Closed with explanation</td>\n",
              "      <td>Yes</td>\n",
              "      <td>Yes</td>\n",
              "      <td>1347613</td>\n",
              "    </tr>\n",
              "    <tr>\n",
              "      <th>2</th>\n",
              "      <td>2013-12-20</td>\n",
              "      <td>Credit card</td>\n",
              "      <td>NaN</td>\n",
              "      <td>Other</td>\n",
              "      <td>NaN</td>\n",
              "      <td>NaN</td>\n",
              "      <td>NaN</td>\n",
              "      <td>Citibank</td>\n",
              "      <td>SC</td>\n",
              "      <td>29203</td>\n",
              "      <td>NaN</td>\n",
              "      <td>NaN</td>\n",
              "      <td>Phone</td>\n",
              "      <td>2014-01-03</td>\n",
              "      <td>Closed with non-monetary relief</td>\n",
              "      <td>Yes</td>\n",
              "      <td>No</td>\n",
              "      <td>640394</td>\n",
              "    </tr>\n",
              "    <tr>\n",
              "      <th>3</th>\n",
              "      <td>2016-03-03</td>\n",
              "      <td>Debt collection</td>\n",
              "      <td>Other (i.e. phone, health club, etc.)</td>\n",
              "      <td>Disclosure verification of debt</td>\n",
              "      <td>Not given enough info to verify debt</td>\n",
              "      <td>NaN</td>\n",
              "      <td>Company has responded to the consumer and the ...</td>\n",
              "      <td>FAIR COLLECTIONS &amp; OUTSOURCING, INC.</td>\n",
              "      <td>OH</td>\n",
              "      <td>43082</td>\n",
              "      <td>NaN</td>\n",
              "      <td>NaN</td>\n",
              "      <td>Referral</td>\n",
              "      <td>2016-03-04</td>\n",
              "      <td>Closed with explanation</td>\n",
              "      <td>Yes</td>\n",
              "      <td>No</td>\n",
              "      <td>1815134</td>\n",
              "    </tr>\n",
              "    <tr>\n",
              "      <th>4</th>\n",
              "      <td>2015-01-30</td>\n",
              "      <td>Debt collection</td>\n",
              "      <td>Medical</td>\n",
              "      <td>Disclosure verification of debt</td>\n",
              "      <td>Not given enough info to verify debt</td>\n",
              "      <td>NaN</td>\n",
              "      <td>NaN</td>\n",
              "      <td>HCFS Health Care Financial Services, Inc.</td>\n",
              "      <td>CA</td>\n",
              "      <td>90036</td>\n",
              "      <td>NaN</td>\n",
              "      <td>NaN</td>\n",
              "      <td>Web</td>\n",
              "      <td>2015-01-30</td>\n",
              "      <td>Closed with explanation</td>\n",
              "      <td>Yes</td>\n",
              "      <td>Yes</td>\n",
              "      <td>1218613</td>\n",
              "    </tr>\n",
              "  </tbody>\n",
              "</table>\n",
              "</div>"
            ],
            "text/plain": [
              "  Date received                  Product  ... Consumer disputed? Complaint ID\n",
              "0    2015-10-14         Credit reporting  ...                 No      1605653\n",
              "1    2015-04-26  Bank account or service  ...                Yes      1347613\n",
              "2    2013-12-20              Credit card  ...                 No       640394\n",
              "3    2016-03-03          Debt collection  ...                 No      1815134\n",
              "4    2015-01-30          Debt collection  ...                Yes      1218613\n",
              "\n",
              "[5 rows x 18 columns]"
            ]
          },
          "metadata": {
            "tags": []
          },
          "execution_count": 3
        }
      ]
    },
    {
      "cell_type": "code",
      "metadata": {
        "colab": {
          "base_uri": "https://localhost:8080/"
        },
        "id": "vaB9BpeCsfF-",
        "outputId": "96a6b4ab-977a-4621-ee87-7ee24947ba8b"
      },
      "source": [
        "cc_train.shape"
      ],
      "execution_count": 4,
      "outputs": [
        {
          "output_type": "execute_result",
          "data": {
            "text/plain": [
              "(116188, 18)"
            ]
          },
          "metadata": {
            "tags": []
          },
          "execution_count": 4
        }
      ]
    },
    {
      "cell_type": "code",
      "metadata": {
        "colab": {
          "base_uri": "https://localhost:8080/"
        },
        "id": "2OF05fZSshsq",
        "outputId": "20de7f7c-740c-48e9-de70-f74472f957a7"
      },
      "source": [
        "cc_train.dtypes"
      ],
      "execution_count": 5,
      "outputs": [
        {
          "output_type": "execute_result",
          "data": {
            "text/plain": [
              "Date received                   object\n",
              "Product                         object\n",
              "Sub-product                     object\n",
              "Issue                           object\n",
              "Sub-issue                       object\n",
              "Consumer complaint narrative    object\n",
              "Company public response         object\n",
              "Company                         object\n",
              "State                           object\n",
              "ZIP code                        object\n",
              "Tags                            object\n",
              "Consumer consent provided?      object\n",
              "Submitted via                   object\n",
              "Date sent to company            object\n",
              "Company response to consumer    object\n",
              "Timely response?                object\n",
              "Consumer disputed?              object\n",
              "Complaint ID                     int64\n",
              "dtype: object"
            ]
          },
          "metadata": {
            "tags": []
          },
          "execution_count": 5
        }
      ]
    },
    {
      "cell_type": "code",
      "metadata": {
        "colab": {
          "base_uri": "https://localhost:8080/"
        },
        "id": "_QtwMbXqskES",
        "outputId": "a0bde2f3-9240-496b-a720-82f1c75a6504"
      },
      "source": [
        "list(zip(cc_train.columns,cc_train.dtypes,cc_train.nunique()))"
      ],
      "execution_count": 6,
      "outputs": [
        {
          "output_type": "execute_result",
          "data": {
            "text/plain": [
              "[('Date received', dtype('O'), 1758),\n",
              " ('Product', dtype('O'), 11),\n",
              " ('Sub-product', dtype('O'), 47),\n",
              " ('Issue', dtype('O'), 94),\n",
              " ('Sub-issue', dtype('O'), 67),\n",
              " ('Consumer complaint narrative', dtype('O'), 18140),\n",
              " ('Company public response', dtype('O'), 10),\n",
              " ('Company', dtype('O'), 2268),\n",
              " ('State', dtype('O'), 62),\n",
              " ('ZIP code', dtype('O'), 17624),\n",
              " ('Tags', dtype('O'), 3),\n",
              " ('Consumer consent provided?', dtype('O'), 4),\n",
              " ('Submitted via', dtype('O'), 6),\n",
              " ('Date sent to company', dtype('O'), 1678),\n",
              " ('Company response to consumer', dtype('O'), 6),\n",
              " ('Timely response?', dtype('O'), 2),\n",
              " ('Consumer disputed?', dtype('O'), 2),\n",
              " ('Complaint ID', dtype('int64'), 116188)]"
            ]
          },
          "metadata": {
            "tags": []
          },
          "execution_count": 6
        }
      ]
    },
    {
      "cell_type": "code",
      "metadata": {
        "colab": {
          "base_uri": "https://localhost:8080/"
        },
        "id": "i5B94xhAsri-",
        "outputId": "be221192-9bb9-4f36-dc77-7ba8838e5111"
      },
      "source": [
        "cc_test.shape"
      ],
      "execution_count": 7,
      "outputs": [
        {
          "output_type": "execute_result",
          "data": {
            "text/plain": [
              "(116623, 17)"
            ]
          },
          "metadata": {
            "tags": []
          },
          "execution_count": 7
        }
      ]
    },
    {
      "cell_type": "code",
      "metadata": {
        "colab": {
          "base_uri": "https://localhost:8080/"
        },
        "id": "I0JgDR7fsuxn",
        "outputId": "79e25647-8cc5-4e35-8a92-db386edea165"
      },
      "source": [
        "cc_test.dtypes\n"
      ],
      "execution_count": 8,
      "outputs": [
        {
          "output_type": "execute_result",
          "data": {
            "text/plain": [
              "Date received                    object\n",
              "Product                          object\n",
              "Sub-product                      object\n",
              "Issue                            object\n",
              "Sub-issue                        object\n",
              "Consumer complaint narrative     object\n",
              "Company public response          object\n",
              "Company                          object\n",
              "State                            object\n",
              "ZIP code                         object\n",
              "Tags                             object\n",
              "Consumer consent provided?       object\n",
              "Submitted via                    object\n",
              "Date sent to company             object\n",
              "Company response to consumer     object\n",
              "Timely response?                 object\n",
              "Complaint ID                    float64\n",
              "dtype: object"
            ]
          },
          "metadata": {
            "tags": []
          },
          "execution_count": 8
        }
      ]
    },
    {
      "cell_type": "code",
      "metadata": {
        "id": "h9stMsr0sz9o"
      },
      "source": [
        "cc_test['Consumer disputed?'] = 'None'"
      ],
      "execution_count": 9,
      "outputs": []
    },
    {
      "cell_type": "code",
      "metadata": {
        "colab": {
          "base_uri": "https://localhost:8080/"
        },
        "id": "O0DrmE-Ls7yH",
        "outputId": "aff50000-b627-4710-f0c2-64e23932d412"
      },
      "source": [
        "cc_test.dtypes"
      ],
      "execution_count": 10,
      "outputs": [
        {
          "output_type": "execute_result",
          "data": {
            "text/plain": [
              "Date received                    object\n",
              "Product                          object\n",
              "Sub-product                      object\n",
              "Issue                            object\n",
              "Sub-issue                        object\n",
              "Consumer complaint narrative     object\n",
              "Company public response          object\n",
              "Company                          object\n",
              "State                            object\n",
              "ZIP code                         object\n",
              "Tags                             object\n",
              "Consumer consent provided?       object\n",
              "Submitted via                    object\n",
              "Date sent to company             object\n",
              "Company response to consumer     object\n",
              "Timely response?                 object\n",
              "Complaint ID                    float64\n",
              "Consumer disputed?               object\n",
              "dtype: object"
            ]
          },
          "metadata": {
            "tags": []
          },
          "execution_count": 10
        }
      ]
    },
    {
      "cell_type": "code",
      "metadata": {
        "id": "o6aDunJhtBMK"
      },
      "source": [
        "cc_train['data'] = 'train'\n",
        "cc_test['data'] = 'test'"
      ],
      "execution_count": 11,
      "outputs": []
    },
    {
      "cell_type": "code",
      "metadata": {
        "id": "6zg-G46_tD2d"
      },
      "source": [
        "cc=pd.concat([cc_train,cc_test],axis=0)"
      ],
      "execution_count": 12,
      "outputs": []
    },
    {
      "cell_type": "code",
      "metadata": {
        "colab": {
          "base_uri": "https://localhost:8080/"
        },
        "id": "28lW5n8NtMjD",
        "outputId": "cb8af8dd-4e32-4821-c295-a03683a3250c"
      },
      "source": [
        "cc_train.shape"
      ],
      "execution_count": 13,
      "outputs": [
        {
          "output_type": "execute_result",
          "data": {
            "text/plain": [
              "(116188, 19)"
            ]
          },
          "metadata": {
            "tags": []
          },
          "execution_count": 13
        }
      ]
    },
    {
      "cell_type": "code",
      "metadata": {
        "colab": {
          "base_uri": "https://localhost:8080/"
        },
        "id": "CKASbmYbtPeW",
        "outputId": "3337521e-1ba0-42ac-87e8-8755780e4564"
      },
      "source": [
        "cc_test.shape"
      ],
      "execution_count": 14,
      "outputs": [
        {
          "output_type": "execute_result",
          "data": {
            "text/plain": [
              "(116623, 19)"
            ]
          },
          "metadata": {
            "tags": []
          },
          "execution_count": 14
        }
      ]
    },
    {
      "cell_type": "code",
      "metadata": {
        "colab": {
          "base_uri": "https://localhost:8080/"
        },
        "id": "oZX6OKYUtRvr",
        "outputId": "de9af04e-ce59-4243-ece7-4d074d322c8a"
      },
      "source": [
        "cc.shape"
      ],
      "execution_count": 15,
      "outputs": [
        {
          "output_type": "execute_result",
          "data": {
            "text/plain": [
              "(232811, 19)"
            ]
          },
          "metadata": {
            "tags": []
          },
          "execution_count": 15
        }
      ]
    },
    {
      "cell_type": "code",
      "metadata": {
        "id": "fC8fHZxGtVI5"
      },
      "source": [
        "cc.drop(['Company',\n",
        "         'Complaint ID',\n",
        "         'Consumer complaint narrative',\n",
        "         'Date received',\n",
        "         'Date sent to company',\n",
        "         'Issue',\n",
        "         'State',\n",
        "         'Sub-issue',\n",
        "         'Sub-product',\n",
        "         'ZIP code'],axis=1,inplace=True)"
      ],
      "execution_count": 16,
      "outputs": []
    },
    {
      "cell_type": "code",
      "metadata": {
        "colab": {
          "base_uri": "https://localhost:8080/"
        },
        "id": "CNwvxq2MtaNU",
        "outputId": "3702014d-01e2-4bf8-de84-2e504a44d4e0"
      },
      "source": [
        "list(zip(cc,cc.dtypes,cc.nunique()))"
      ],
      "execution_count": 17,
      "outputs": [
        {
          "output_type": "execute_result",
          "data": {
            "text/plain": [
              "[('Product', dtype('O'), 12),\n",
              " ('Company public response', dtype('O'), 11),\n",
              " ('Tags', dtype('O'), 4),\n",
              " ('Consumer consent provided?', dtype('O'), 5),\n",
              " ('Submitted via', dtype('O'), 6),\n",
              " ('Company response to consumer', dtype('O'), 6),\n",
              " ('Timely response?', dtype('O'), 2),\n",
              " ('Consumer disputed?', dtype('O'), 3),\n",
              " ('data', dtype('O'), 2)]"
            ]
          },
          "metadata": {
            "tags": []
          },
          "execution_count": 17
        }
      ]
    },
    {
      "cell_type": "code",
      "metadata": {
        "colab": {
          "base_uri": "https://localhost:8080/"
        },
        "id": "hv6f8mJ4tmgU",
        "outputId": "628ed5ee-4133-4d8f-bdcd-bdecb7ebfecb"
      },
      "source": [
        "cc['Company public response'].value_counts()"
      ],
      "execution_count": 18,
      "outputs": [
        {
          "output_type": "execute_result",
          "data": {
            "text/plain": [
              "Company chooses not to provide a public response                                                                           20347\n",
              "Company has responded to the consumer and the CFPB and chooses not to provide a public response                            12640\n",
              "Company believes it acted appropriately as authorized by contract or law                                                    7908\n",
              "Company believes complaint caused principally by actions of third party outside the control or direction of the company      721\n",
              "Company believes the complaint is the result of a misunderstanding                                                           692\n",
              "Company disputes the facts presented in the complaint                                                                        652\n",
              "Company believes complaint is the result of an isolated error                                                                533\n",
              "Company can't verify or dispute the facts in the complaint                                                                   417\n",
              "Company believes complaint represents an opportunity for improvement to better serve consumers                               233\n",
              "Company believes complaint relates to a discontinued policy or procedure                                                      13\n",
              "Name: Company public response, dtype: int64"
            ]
          },
          "metadata": {
            "tags": []
          },
          "execution_count": 18
        }
      ]
    },
    {
      "cell_type": "code",
      "metadata": {
        "colab": {
          "base_uri": "https://localhost:8080/"
        },
        "id": "ch4ftMtHtoro",
        "outputId": "70e59006-74ce-402e-eed9-6e3b0c8b9db9"
      },
      "source": [
        "freq=cc['Company public response'].value_counts()\n",
        "k=freq.index[freq>20][:-1]\n",
        "k"
      ],
      "execution_count": 19,
      "outputs": [
        {
          "output_type": "execute_result",
          "data": {
            "text/plain": [
              "Index(['Company chooses not to provide a public response',\n",
              "       'Company has responded to the consumer and the CFPB and chooses not to provide a public response',\n",
              "       'Company believes it acted appropriately as authorized by contract or law',\n",
              "       'Company believes complaint caused principally by actions of third party outside the control or direction of the company',\n",
              "       'Company believes the complaint is the result of a misunderstanding',\n",
              "       'Company disputes the facts presented in the complaint',\n",
              "       'Company believes complaint is the result of an isolated error',\n",
              "       'Company can't verify or dispute the facts in the complaint'],\n",
              "      dtype='object')"
            ]
          },
          "metadata": {
            "tags": []
          },
          "execution_count": 19
        }
      ]
    },
    {
      "cell_type": "code",
      "metadata": {
        "colab": {
          "base_uri": "https://localhost:8080/"
        },
        "id": "cut9TemktxoO",
        "outputId": "0d9811d0-5475-41d8-a46e-b9ccd310ae33"
      },
      "source": [
        "cat ='Company public response'\n",
        "for each_cat in k:\n",
        "    p=cat+'_'+each_cat\n",
        "    cc[p]=(cc[cat]==each_cat).astype(int)\n",
        "print(cat)"
      ],
      "execution_count": 20,
      "outputs": [
        {
          "output_type": "stream",
          "text": [
            "Company public response\n"
          ],
          "name": "stdout"
        }
      ]
    },
    {
      "cell_type": "code",
      "metadata": {
        "colab": {
          "base_uri": "https://localhost:8080/"
        },
        "id": "Tg-eHq_7t0g6",
        "outputId": "5e1bf718-1c27-4ddf-f637-74ae06731fb7"
      },
      "source": [
        "cc.shape"
      ],
      "execution_count": 21,
      "outputs": [
        {
          "output_type": "execute_result",
          "data": {
            "text/plain": [
              "(232811, 17)"
            ]
          },
          "metadata": {
            "tags": []
          },
          "execution_count": 21
        }
      ]
    },
    {
      "cell_type": "code",
      "metadata": {
        "id": "kM4W4P0Zt2_g"
      },
      "source": [
        "del cc['Company public response']"
      ],
      "execution_count": 22,
      "outputs": []
    },
    {
      "cell_type": "code",
      "metadata": {
        "colab": {
          "base_uri": "https://localhost:8080/"
        },
        "id": "GMv-fUIft8UV",
        "outputId": "e68c6726-1c1e-4ec7-f468-c0326a3d5ede"
      },
      "source": [
        "cc.shape"
      ],
      "execution_count": 23,
      "outputs": [
        {
          "output_type": "execute_result",
          "data": {
            "text/plain": [
              "(232811, 16)"
            ]
          },
          "metadata": {
            "tags": []
          },
          "execution_count": 23
        }
      ]
    },
    {
      "cell_type": "code",
      "metadata": {
        "colab": {
          "base_uri": "https://localhost:8080/"
        },
        "id": "2Z0FctvDt9ej",
        "outputId": "4adefe32-5f6f-4352-a8b4-b440736afb18"
      },
      "source": [
        "cc['Company response to consumer'].value_counts()"
      ],
      "execution_count": 24,
      "outputs": [
        {
          "output_type": "execute_result",
          "data": {
            "text/plain": [
              "Closed with explanation            172476\n",
              "Closed with non-monetary relief     29959\n",
              "Closed with monetary relief         16004\n",
              "Closed without relief                6866\n",
              "Closed                               5481\n",
              "Closed with relief                   2024\n",
              "Name: Company response to consumer, dtype: int64"
            ]
          },
          "metadata": {
            "tags": []
          },
          "execution_count": 24
        }
      ]
    },
    {
      "cell_type": "code",
      "metadata": {
        "colab": {
          "base_uri": "https://localhost:8080/"
        },
        "id": "QLSVUooKuAll",
        "outputId": "ae4d8768-caf0-43e1-eb5f-6115721ab2d7"
      },
      "source": [
        "freq=cc['Company response to consumer'].value_counts()\n",
        "k=freq.index[freq>20][:-1] \n",
        "k"
      ],
      "execution_count": 25,
      "outputs": [
        {
          "output_type": "execute_result",
          "data": {
            "text/plain": [
              "Index(['Closed with explanation', 'Closed with non-monetary relief',\n",
              "       'Closed with monetary relief', 'Closed without relief', 'Closed'],\n",
              "      dtype='object')"
            ]
          },
          "metadata": {
            "tags": []
          },
          "execution_count": 25
        }
      ]
    },
    {
      "cell_type": "code",
      "metadata": {
        "id": "5uQIhN-5uE93"
      },
      "source": [
        "cat='Company response to consumer'\n",
        "for each_cat in k:\n",
        "    p=cat+'_'+each_cat\n",
        "    cc[p]=(cc[cat]==each_cat).astype(int)"
      ],
      "execution_count": 26,
      "outputs": []
    },
    {
      "cell_type": "code",
      "metadata": {
        "colab": {
          "base_uri": "https://localhost:8080/"
        },
        "id": "YVf5zAoguIbC",
        "outputId": "b6de3829-06aa-43f8-85f6-cc481d813188"
      },
      "source": [
        "cc.shape"
      ],
      "execution_count": 27,
      "outputs": [
        {
          "output_type": "execute_result",
          "data": {
            "text/plain": [
              "(232811, 21)"
            ]
          },
          "metadata": {
            "tags": []
          },
          "execution_count": 27
        }
      ]
    },
    {
      "cell_type": "code",
      "metadata": {
        "id": "5nM7F6MWuK3l"
      },
      "source": [
        "del cc['Company response to consumer']"
      ],
      "execution_count": 28,
      "outputs": []
    },
    {
      "cell_type": "code",
      "metadata": {
        "colab": {
          "base_uri": "https://localhost:8080/"
        },
        "id": "Bdc5lKA0uWCL",
        "outputId": "1d57a95c-de06-4d77-8cb8-b7e94cf02c74"
      },
      "source": [
        "cc['Consumer consent provided?'].value_counts()"
      ],
      "execution_count": 29,
      "outputs": [
        {
          "output_type": "execute_result",
          "data": {
            "text/plain": [
              "Consent provided        36647\n",
              "Consent not provided    27506\n",
              "Other                    2037\n",
              "Consent withdrawn           2\n",
              "Name: Consumer consent provided?, dtype: int64"
            ]
          },
          "metadata": {
            "tags": []
          },
          "execution_count": 29
        }
      ]
    },
    {
      "cell_type": "code",
      "metadata": {
        "id": "CmNNn8V2uZip"
      },
      "source": [
        "k=freq.index[freq>20][:-1]\n",
        "cat='Consumer consent provided?'\n",
        "for each_cat in k:\n",
        "    p=cat+'_'+each_cat\n",
        "    cc[p]=(cc[cat]==each_cat).astype(int)"
      ],
      "execution_count": 30,
      "outputs": []
    },
    {
      "cell_type": "code",
      "metadata": {
        "id": "w6jZcmfIudEk"
      },
      "source": [
        "del cc['Consumer consent provided?']"
      ],
      "execution_count": 31,
      "outputs": []
    },
    {
      "cell_type": "code",
      "metadata": {
        "colab": {
          "base_uri": "https://localhost:8080/"
        },
        "id": "VR9s05mtugUS",
        "outputId": "2371789b-88b0-4778-c0e4-44a401c284f8"
      },
      "source": [
        "freq=cc['Product'].value_counts()\n",
        "freq"
      ],
      "execution_count": 32,
      "outputs": [
        {
          "output_type": "execute_result",
          "data": {
            "text/plain": [
              "Mortgage                   76043\n",
              "Debt collection            42013\n",
              "Credit reporting           39628\n",
              "Credit card                27870\n",
              "Bank account or service    26451\n",
              "Consumer Loan               9072\n",
              "Student loan                7198\n",
              "Money transfers             1614\n",
              "Payday loan                 1563\n",
              "Prepaid card                1105\n",
              "Other financial service      251\n",
              "Virtual currency               3\n",
              "Name: Product, dtype: int64"
            ]
          },
          "metadata": {
            "tags": []
          },
          "execution_count": 32
        }
      ]
    },
    {
      "cell_type": "code",
      "metadata": {
        "id": "ZxZ6sGUAujc6"
      },
      "source": [
        "k=freq.index[freq>20][:-1]\n",
        "cat='Product'\n",
        "for each_cat in k:\n",
        "    p=cat+'_'+each_cat\n",
        "    cc[p]=(cc[cat]==each_cat).astype(int)"
      ],
      "execution_count": 33,
      "outputs": []
    },
    {
      "cell_type": "code",
      "metadata": {
        "id": "Rf9CJyrBuoPs"
      },
      "source": [
        "del cc['Product']"
      ],
      "execution_count": 34,
      "outputs": []
    },
    {
      "cell_type": "code",
      "metadata": {
        "id": "zDRE4C6puqFv"
      },
      "source": [
        "freq=cc['Submitted via'].value_counts()"
      ],
      "execution_count": 35,
      "outputs": []
    },
    {
      "cell_type": "code",
      "metadata": {
        "id": "E0wqd4DLusQx"
      },
      "source": [
        "k=freq.index[freq>20][:-1]\n",
        "\n",
        "cat='Submitted via'\n",
        "for each_cat in k:\n",
        "    p=cat+'_'+each_cat\n",
        "    cc[p]=(cc[cat]==each_cat).astype(int)"
      ],
      "execution_count": 36,
      "outputs": []
    },
    {
      "cell_type": "code",
      "metadata": {
        "id": "gK8MTQsnuy6z"
      },
      "source": [
        "del cc['Submitted via']"
      ],
      "execution_count": 37,
      "outputs": []
    },
    {
      "cell_type": "code",
      "metadata": {
        "id": "eGXD2wpSuz-t"
      },
      "source": [
        "freq=cc['Tags'].value_counts()"
      ],
      "execution_count": 38,
      "outputs": []
    },
    {
      "cell_type": "code",
      "metadata": {
        "colab": {
          "base_uri": "https://localhost:8080/"
        },
        "id": "imfXLsWEu2tv",
        "outputId": "5fe8fb43-dcec-40e7-a17b-d7f2d4520d74"
      },
      "source": [
        "\n",
        "freq"
      ],
      "execution_count": 39,
      "outputs": [
        {
          "output_type": "execute_result",
          "data": {
            "text/plain": [
              "Older American                   19013\n",
              "Servicemember                    11016\n",
              "Older American, Servicemember     2725\n",
              "Name: Tags, dtype: int64"
            ]
          },
          "metadata": {
            "tags": []
          },
          "execution_count": 39
        }
      ]
    },
    {
      "cell_type": "code",
      "metadata": {
        "colab": {
          "base_uri": "https://localhost:8080/"
        },
        "id": "1C8TBS0fu43-",
        "outputId": "20d187d9-b5a5-4d01-97e7-5dd94d9422fb"
      },
      "source": [
        "k=freq.index[freq>20][:-1]\n",
        "k"
      ],
      "execution_count": 40,
      "outputs": [
        {
          "output_type": "execute_result",
          "data": {
            "text/plain": [
              "Index(['Older American', 'Servicemember'], dtype='object')"
            ]
          },
          "metadata": {
            "tags": []
          },
          "execution_count": 40
        }
      ]
    },
    {
      "cell_type": "code",
      "metadata": {
        "id": "fxWd-mgDu9rg"
      },
      "source": [
        "cat='Tags'\n",
        "for each_cat in k:\n",
        "    p=cat+'_'+each_cat\n",
        "    cc[p]=(cc[cat]==each_cat).astype(int)"
      ],
      "execution_count": 41,
      "outputs": []
    },
    {
      "cell_type": "code",
      "metadata": {
        "id": "5KvwduxdvEe9"
      },
      "source": [
        "del cc['Tags']"
      ],
      "execution_count": 42,
      "outputs": []
    },
    {
      "cell_type": "code",
      "metadata": {
        "colab": {
          "base_uri": "https://localhost:8080/"
        },
        "id": "xBmZYdiBvGu8",
        "outputId": "91e46b99-a27f-4fd6-974d-94f1e63cc5ec"
      },
      "source": [
        "freq=cc['Timely response?'].value_counts()\n",
        "k=freq.index[freq>20][:-1]\n",
        "k"
      ],
      "execution_count": 43,
      "outputs": [
        {
          "output_type": "execute_result",
          "data": {
            "text/plain": [
              "Index(['Yes'], dtype='object')"
            ]
          },
          "metadata": {
            "tags": []
          },
          "execution_count": 43
        }
      ]
    },
    {
      "cell_type": "code",
      "metadata": {
        "id": "bBrbWHJ8vJSg"
      },
      "source": [
        "cat='Timely response?'\n",
        "for each_cat in k:\n",
        "    p=cat+'_'+each_cat\n",
        "    cc[p]=(cc[cat]==each_cat).astype(int)"
      ],
      "execution_count": 44,
      "outputs": []
    },
    {
      "cell_type": "code",
      "metadata": {
        "id": "n4ongYhFvP3F"
      },
      "source": [
        "del cc['Timely response?']"
      ],
      "execution_count": 45,
      "outputs": []
    },
    {
      "cell_type": "code",
      "metadata": {
        "colab": {
          "base_uri": "https://localhost:8080/"
        },
        "id": "-9XVuyy1vSaL",
        "outputId": "42fcdce3-8d56-43a2-d04b-986b855b35c2"
      },
      "source": [
        "cc['Consumer disputed?'].value_counts()"
      ],
      "execution_count": 46,
      "outputs": [
        {
          "output_type": "execute_result",
          "data": {
            "text/plain": [
              "None    116623\n",
              "No       91377\n",
              "Yes      24811\n",
              "Name: Consumer disputed?, dtype: int64"
            ]
          },
          "metadata": {
            "tags": []
          },
          "execution_count": 46
        }
      ]
    },
    {
      "cell_type": "code",
      "metadata": {
        "colab": {
          "base_uri": "https://localhost:8080/"
        },
        "id": "iQVd4-QrvV6K",
        "outputId": "43d103a1-aa0b-40ad-bc6f-bf84a956be64"
      },
      "source": [
        "cc.isnull().sum()"
      ],
      "execution_count": 47,
      "outputs": [
        {
          "output_type": "execute_result",
          "data": {
            "text/plain": [
              "Consumer disputed?                                                                                                                                 0\n",
              "data                                                                                                                                               0\n",
              "Company public response_Company chooses not to provide a public response                                                                           0\n",
              "Company public response_Company has responded to the consumer and the CFPB and chooses not to provide a public response                            0\n",
              "Company public response_Company believes it acted appropriately as authorized by contract or law                                                   0\n",
              "Company public response_Company believes complaint caused principally by actions of third party outside the control or direction of the company    0\n",
              "Company public response_Company believes the complaint is the result of a misunderstanding                                                         0\n",
              "Company public response_Company disputes the facts presented in the complaint                                                                      0\n",
              "Company public response_Company believes complaint is the result of an isolated error                                                              0\n",
              "Company public response_Company can't verify or dispute the facts in the complaint                                                                 0\n",
              "Company response to consumer_Closed with explanation                                                                                               0\n",
              "Company response to consumer_Closed with non-monetary relief                                                                                       0\n",
              "Company response to consumer_Closed with monetary relief                                                                                           0\n",
              "Company response to consumer_Closed without relief                                                                                                 0\n",
              "Company response to consumer_Closed                                                                                                                0\n",
              "Consumer consent provided?_Closed with explanation                                                                                                 0\n",
              "Consumer consent provided?_Closed with non-monetary relief                                                                                         0\n",
              "Consumer consent provided?_Closed with monetary relief                                                                                             0\n",
              "Consumer consent provided?_Closed without relief                                                                                                   0\n",
              "Consumer consent provided?_Closed                                                                                                                  0\n",
              "Product_Mortgage                                                                                                                                   0\n",
              "Product_Debt collection                                                                                                                            0\n",
              "Product_Credit reporting                                                                                                                           0\n",
              "Product_Credit card                                                                                                                                0\n",
              "Product_Bank account or service                                                                                                                    0\n",
              "Product_Consumer Loan                                                                                                                              0\n",
              "Product_Student loan                                                                                                                               0\n",
              "Product_Money transfers                                                                                                                            0\n",
              "Product_Payday loan                                                                                                                                0\n",
              "Product_Prepaid card                                                                                                                               0\n",
              "Submitted via_Web                                                                                                                                  0\n",
              "Submitted via_Referral                                                                                                                             0\n",
              "Submitted via_Phone                                                                                                                                0\n",
              "Submitted via_Postal mail                                                                                                                          0\n",
              "Submitted via_Fax                                                                                                                                  0\n",
              "Tags_Older American                                                                                                                                0\n",
              "Tags_Servicemember                                                                                                                                 0\n",
              "Timely response?_Yes                                                                                                                               0\n",
              "dtype: int64"
            ]
          },
          "metadata": {
            "tags": []
          },
          "execution_count": 47
        }
      ]
    },
    {
      "cell_type": "code",
      "metadata": {
        "id": "CuFCtz8pvZmo"
      },
      "source": [
        "train = cc[cc['data'] == 'train']"
      ],
      "execution_count": 48,
      "outputs": []
    },
    {
      "cell_type": "code",
      "metadata": {
        "colab": {
          "base_uri": "https://localhost:8080/"
        },
        "id": "FiYKjYLjvcb2",
        "outputId": "c4f2fa21-f6f5-459c-b05b-3859bb95c9a1"
      },
      "source": [
        "train['data'].value_counts()"
      ],
      "execution_count": 49,
      "outputs": [
        {
          "output_type": "execute_result",
          "data": {
            "text/plain": [
              "train    116188\n",
              "Name: data, dtype: int64"
            ]
          },
          "metadata": {
            "tags": []
          },
          "execution_count": 49
        }
      ]
    },
    {
      "cell_type": "code",
      "metadata": {
        "id": "SIrurwMsveo9"
      },
      "source": [
        "test = cc[cc['data'] == 'test']"
      ],
      "execution_count": 50,
      "outputs": []
    },
    {
      "cell_type": "code",
      "metadata": {
        "id": "16jojzpQvhEA"
      },
      "source": [
        "train=train.drop(['data'],1)"
      ],
      "execution_count": 51,
      "outputs": []
    },
    {
      "cell_type": "code",
      "metadata": {
        "id": "6A7GOMjcvka1"
      },
      "source": [
        "test=test.drop(['data'],1)"
      ],
      "execution_count": 52,
      "outputs": []
    },
    {
      "cell_type": "code",
      "metadata": {
        "colab": {
          "base_uri": "https://localhost:8080/"
        },
        "id": "l22Wyb5uvmyG",
        "outputId": "f6b35830-e594-4f32-daf1-f78c5aa0d938"
      },
      "source": [
        "train['Consumer disputed?'].value_counts()"
      ],
      "execution_count": 53,
      "outputs": [
        {
          "output_type": "execute_result",
          "data": {
            "text/plain": [
              "No     91377\n",
              "Yes    24811\n",
              "Name: Consumer disputed?, dtype: int64"
            ]
          },
          "metadata": {
            "tags": []
          },
          "execution_count": 53
        }
      ]
    },
    {
      "cell_type": "code",
      "metadata": {
        "id": "18q1LxrRvo_k"
      },
      "source": [
        "train[\"y\"]=np.where(train[\"Consumer disputed?\"]=='No',0,1)\n"
      ],
      "execution_count": 54,
      "outputs": []
    },
    {
      "cell_type": "code",
      "metadata": {
        "colab": {
          "base_uri": "https://localhost:8080/"
        },
        "id": "gzsqpvK2vsvc",
        "outputId": "af36b8f7-a80f-459d-cb28-8fd5ae10f2a0"
      },
      "source": [
        "train['y'].value_counts()"
      ],
      "execution_count": 55,
      "outputs": [
        {
          "output_type": "execute_result",
          "data": {
            "text/plain": [
              "0    91377\n",
              "1    24811\n",
              "Name: y, dtype: int64"
            ]
          },
          "metadata": {
            "tags": []
          },
          "execution_count": 55
        }
      ]
    },
    {
      "cell_type": "code",
      "metadata": {
        "id": "5IV4X6S-vvRK"
      },
      "source": [
        "train=train.drop(['Consumer disputed?'],1)"
      ],
      "execution_count": 56,
      "outputs": []
    },
    {
      "cell_type": "code",
      "metadata": {
        "id": "sFIcNxWWv3ZH"
      },
      "source": [
        "import sklearn.feature_extraction.text as text\n",
        "from sklearn import model_selection, preprocessing, linear_model, naive_bayes, metrics, svm\n",
        "from sklearn.naive_bayes import MultinomialNB\n",
        "from sklearn.linear_model import LogisticRegression\n",
        "from sklearn.ensemble import RandomForestClassifier\n",
        "from sklearn.svm import LinearSVC\n",
        "from sklearn.model_selection import cross_val_score\n",
        "from sklearn.model_selection import train_test_split"
      ],
      "execution_count": 57,
      "outputs": []
    },
    {
      "cell_type": "code",
      "metadata": {
        "id": "Va_EXadJwwcN"
      },
      "source": [
        "cctrain, cctest = train_test_split(train, test_size = 0.2,random_state=2)"
      ],
      "execution_count": 58,
      "outputs": []
    },
    {
      "cell_type": "code",
      "metadata": {
        "id": "ydQHvzrlw0Zp"
      },
      "source": [
        "x_train=cctrain.drop([\"y\"],1)\n",
        "y_train=cctrain[\"y\"]\n",
        "x_test=cctest.drop([\"y\"],1)\n",
        "y_test=cctest[\"y\"]"
      ],
      "execution_count": 59,
      "outputs": []
    },
    {
      "cell_type": "code",
      "metadata": {
        "id": "9fv9wyz9wmdZ"
      },
      "source": [
        "logr=LogisticRegression(penalty=\"l2\",class_weight=\"balanced\",random_state=2)"
      ],
      "execution_count": 60,
      "outputs": []
    },
    {
      "cell_type": "code",
      "metadata": {
        "colab": {
          "base_uri": "https://localhost:8080/"
        },
        "id": "mrT910vSw8II",
        "outputId": "f8b466a8-e977-48ab-b2b2-062d88e3fbc6"
      },
      "source": [
        "logr.fit(x_train, y_train)"
      ],
      "execution_count": 61,
      "outputs": [
        {
          "output_type": "stream",
          "text": [
            "/usr/local/lib/python3.7/dist-packages/sklearn/linear_model/_logistic.py:940: ConvergenceWarning: lbfgs failed to converge (status=1):\n",
            "STOP: TOTAL NO. of ITERATIONS REACHED LIMIT.\n",
            "\n",
            "Increase the number of iterations (max_iter) or scale the data as shown in:\n",
            "    https://scikit-learn.org/stable/modules/preprocessing.html\n",
            "Please also refer to the documentation for alternative solver options:\n",
            "    https://scikit-learn.org/stable/modules/linear_model.html#logistic-regression\n",
            "  extra_warning_msg=_LOGISTIC_SOLVER_CONVERGENCE_MSG)\n"
          ],
          "name": "stderr"
        },
        {
          "output_type": "execute_result",
          "data": {
            "text/plain": [
              "LogisticRegression(C=1.0, class_weight='balanced', dual=False,\n",
              "                   fit_intercept=True, intercept_scaling=1, l1_ratio=None,\n",
              "                   max_iter=100, multi_class='auto', n_jobs=None, penalty='l2',\n",
              "                   random_state=2, solver='lbfgs', tol=0.0001, verbose=0,\n",
              "                   warm_start=False)"
            ]
          },
          "metadata": {
            "tags": []
          },
          "execution_count": 61
        }
      ]
    },
    {
      "cell_type": "code",
      "metadata": {
        "colab": {
          "base_uri": "https://localhost:8080/"
        },
        "id": "uE8olpA1w_cm",
        "outputId": "da0a8251-0fd5-4dd9-dcde-b1d03930a8ed"
      },
      "source": [
        "from sklearn.metrics import roc_auc_score\n",
        "roc_auc_score(y_test,logr.predict(x_test))\n"
      ],
      "execution_count": 62,
      "outputs": [
        {
          "output_type": "execute_result",
          "data": {
            "text/plain": [
              "0.5740257160639766"
            ]
          },
          "metadata": {
            "tags": []
          },
          "execution_count": 62
        }
      ]
    },
    {
      "cell_type": "code",
      "metadata": {
        "colab": {
          "base_uri": "https://localhost:8080/"
        },
        "id": "NgUcZrPjxbj-",
        "outputId": "ea47d0bd-8fe0-4460-cd16-af8fce7224d1"
      },
      "source": [
        "from sklearn.model_selection import GridSearchCV\n",
        "clf = LogisticRegression()\n",
        "lr_params = {'C':[int(x) for x in np.linspace(1,10,10)]}\n",
        "grid_lr = GridSearchCV(estimator=clf,param_grid=lr_params,cv=5,n_jobs=-1)\n",
        "grid_lr.fit(x_train,y_train)"
      ],
      "execution_count": 63,
      "outputs": [
        {
          "output_type": "stream",
          "text": [
            "/usr/local/lib/python3.7/dist-packages/sklearn/linear_model/_logistic.py:940: ConvergenceWarning: lbfgs failed to converge (status=1):\n",
            "STOP: TOTAL NO. of ITERATIONS REACHED LIMIT.\n",
            "\n",
            "Increase the number of iterations (max_iter) or scale the data as shown in:\n",
            "    https://scikit-learn.org/stable/modules/preprocessing.html\n",
            "Please also refer to the documentation for alternative solver options:\n",
            "    https://scikit-learn.org/stable/modules/linear_model.html#logistic-regression\n",
            "  extra_warning_msg=_LOGISTIC_SOLVER_CONVERGENCE_MSG)\n"
          ],
          "name": "stderr"
        },
        {
          "output_type": "execute_result",
          "data": {
            "text/plain": [
              "GridSearchCV(cv=5, error_score=nan,\n",
              "             estimator=LogisticRegression(C=1.0, class_weight=None, dual=False,\n",
              "                                          fit_intercept=True,\n",
              "                                          intercept_scaling=1, l1_ratio=None,\n",
              "                                          max_iter=100, multi_class='auto',\n",
              "                                          n_jobs=None, penalty='l2',\n",
              "                                          random_state=None, solver='lbfgs',\n",
              "                                          tol=0.0001, verbose=0,\n",
              "                                          warm_start=False),\n",
              "             iid='deprecated', n_jobs=-1,\n",
              "             param_grid={'C': [1, 2, 3, 4, 5, 6, 7, 8, 9, 10]},\n",
              "             pre_dispatch='2*n_jobs', refit=True, return_train_score=False,\n",
              "             scoring=None, verbose=0)"
            ]
          },
          "metadata": {
            "tags": []
          },
          "execution_count": 63
        }
      ]
    },
    {
      "cell_type": "code",
      "metadata": {
        "colab": {
          "base_uri": "https://localhost:8080/"
        },
        "id": "VVXBFrmsxmV5",
        "outputId": "26782c42-6d83-4843-f460-96a66dde42e8"
      },
      "source": [
        "print(grid_lr.best_params_)\n",
        "print(grid_lr.best_score_)"
      ],
      "execution_count": 64,
      "outputs": [
        {
          "output_type": "stream",
          "text": [
            "{'C': 1}\n",
            "0.7862076385153308\n"
          ],
          "name": "stdout"
        }
      ]
    },
    {
      "cell_type": "code",
      "metadata": {
        "colab": {
          "base_uri": "https://localhost:8080/"
        },
        "id": "NsOOlZMHx0h1",
        "outputId": "021ecc7a-86c3-424f-99b6-76166a5448c0"
      },
      "source": [
        "final_lr = LogisticRegression(C=1)\n",
        "final_lr.fit(x_train,y_train)"
      ],
      "execution_count": 65,
      "outputs": [
        {
          "output_type": "stream",
          "text": [
            "/usr/local/lib/python3.7/dist-packages/sklearn/linear_model/_logistic.py:940: ConvergenceWarning: lbfgs failed to converge (status=1):\n",
            "STOP: TOTAL NO. of ITERATIONS REACHED LIMIT.\n",
            "\n",
            "Increase the number of iterations (max_iter) or scale the data as shown in:\n",
            "    https://scikit-learn.org/stable/modules/preprocessing.html\n",
            "Please also refer to the documentation for alternative solver options:\n",
            "    https://scikit-learn.org/stable/modules/linear_model.html#logistic-regression\n",
            "  extra_warning_msg=_LOGISTIC_SOLVER_CONVERGENCE_MSG)\n"
          ],
          "name": "stderr"
        },
        {
          "output_type": "execute_result",
          "data": {
            "text/plain": [
              "LogisticRegression(C=1, class_weight=None, dual=False, fit_intercept=True,\n",
              "                   intercept_scaling=1, l1_ratio=None, max_iter=100,\n",
              "                   multi_class='auto', n_jobs=None, penalty='l2',\n",
              "                   random_state=None, solver='lbfgs', tol=0.0001, verbose=0,\n",
              "                   warm_start=False)"
            ]
          },
          "metadata": {
            "tags": []
          },
          "execution_count": 65
        }
      ]
    },
    {
      "cell_type": "code",
      "metadata": {
        "colab": {
          "base_uri": "https://localhost:8080/"
        },
        "id": "hmHXtShnx9jd",
        "outputId": "3396d792-feaf-4965-f2e8-a12ddcd89bae"
      },
      "source": [
        "final_lr_predict = final_lr.predict(x_test)\n",
        "lr_accuracy = metrics.accuracy_score(final_lr_predict,y_test)\n",
        "print (\"Logistic Regression > Accuracy: \", lr_accuracy)"
      ],
      "execution_count": 66,
      "outputs": [
        {
          "output_type": "stream",
          "text": [
            "Logistic Regression > Accuracy:  0.7874601945089938\n"
          ],
          "name": "stdout"
        }
      ]
    },
    {
      "cell_type": "code",
      "metadata": {
        "colab": {
          "base_uri": "https://localhost:8080/"
        },
        "id": "ZztDZph9zAhi",
        "outputId": "b3debc55-0428-4c0a-ae4a-c823e28f2654"
      },
      "source": [
        "from sklearn.metrics import confusion_matrix\n",
        "cm = confusion_matrix(y_test,final_lr_predict)\n",
        "print(cm)"
      ],
      "execution_count": 67,
      "outputs": [
        {
          "output_type": "stream",
          "text": [
            "[[18299     0]\n",
            " [ 4939     0]]\n"
          ],
          "name": "stdout"
        }
      ]
    },
    {
      "cell_type": "code",
      "metadata": {
        "id": "gYF7KhWczZNb"
      },
      "source": [
        "import numpy as np\n",
        "import pandas as pd\n",
        "Predicted= pd.DataFrame(final_lr_predict, columns=['Predictions1test']).to_csv('Predictiontest1.csv')"
      ],
      "execution_count": 68,
      "outputs": []
    },
    {
      "cell_type": "code",
      "metadata": {
        "colab": {
          "base_uri": "https://localhost:8080/"
        },
        "id": "OobxheFc0nVs",
        "outputId": "13c8d14d-0642-4f2f-bd7c-d447aa6bef1f"
      },
      "source": [
        "print(\"shape of original dataset :\",cc)\n",
        "print(\"shape of input - training set\", x_train.shape)\n",
        "print(\"shape of output - training set\", y_train.shape)\n",
        "print(\"shape of input - testing set\", x_test.shape)\n",
        "print(\"shape of output - testing set\", y_test.shape)"
      ],
      "execution_count": 69,
      "outputs": [
        {
          "output_type": "stream",
          "text": [
            "shape of original dataset :        Consumer disputed?   data  ...  Tags_Servicemember  Timely response?_Yes\n",
            "0                      No  train  ...                   0                     1\n",
            "1                     Yes  train  ...                   0                     1\n",
            "2                      No  train  ...                   0                     1\n",
            "3                      No  train  ...                   0                     1\n",
            "4                     Yes  train  ...                   0                     1\n",
            "...                   ...    ...  ...                 ...                   ...\n",
            "116618               None   test  ...                   0                     1\n",
            "116619               None   test  ...                   0                     1\n",
            "116620               None   test  ...                   0                     1\n",
            "116621               None   test  ...                   0                     1\n",
            "116622               None   test  ...                   0                     0\n",
            "\n",
            "[232811 rows x 38 columns]\n",
            "shape of input - training set (92950, 36)\n",
            "shape of output - training set (92950,)\n",
            "shape of input - testing set (23238, 36)\n",
            "shape of output - testing set (23238,)\n"
          ],
          "name": "stdout"
        }
      ]
    },
    {
      "cell_type": "code",
      "metadata": {
        "colab": {
          "base_uri": "https://localhost:8080/",
          "height": 505
        },
        "id": "AuWRNCJE837B",
        "outputId": "dd8350cd-d7a2-48cd-fb59-3d67f584c3a0"
      },
      "source": [
        "from sklearn.feature_selection import SelectKBest\n",
        "from sklearn.feature_selection import f_regression\n",
        "import matplotlib.pyplot as plt\n",
        "from sklearn.feature_selection import mutual_info_regression\n",
        "# feature selection\n",
        "f_selector = SelectKBest(score_func=f_regression, k=10)\n",
        "# learn relationship from training data\n",
        "f_selector.fit(x_train, y_train)\n",
        "# transform train input data\n",
        "X_train_fs = f_selector.transform(x_train)\n",
        "# transform test input data\n",
        "X_test_fs = f_selector.transform(x_test)\n",
        "# Plot the scores for the features\n",
        "plt.bar([i for i in range(len(f_selector.scores_))], f_selector.scores_)\n",
        "print(f_selector.pvalues_)\n",
        "plt.xlabel(\"feature index\")\n",
        "plt.ylabel(\"F-value (transformed from the correlation values)\")\n",
        "plt.show()\n"
      ],
      "execution_count": 82,
      "outputs": [
        {
          "output_type": "stream",
          "text": [
            "/usr/local/lib/python3.7/dist-packages/sklearn/feature_selection/_univariate_selection.py:299: RuntimeWarning: invalid value encountered in true_divide\n",
            "  corr /= X_norms\n"
          ],
          "name": "stderr"
        },
        {
          "output_type": "stream",
          "text": [
            "[1.11296180e-007 3.96734660e-001 2.81819066e-007 2.00968320e-003\n",
            " 3.44117763e-001 5.03734835e-001 1.91585352e-001 1.40496493e-001\n",
            " 3.27688158e-167 8.68056080e-125 1.11677938e-090 6.93397084e-011\n",
            " 9.93938120e-003             nan             nan             nan\n",
            "             nan             nan 3.09842063e-044 1.27753091e-005\n",
            " 2.05098990e-029 8.57954595e-002 7.10634052e-004 6.90119886e-004\n",
            " 8.88374182e-001 1.70825573e-004 1.62830361e-003 9.72073782e-003\n",
            " 4.50263938e-115 7.19714178e-050 5.48100673e-013 1.20148377e-035\n",
            " 8.13863053e-001 9.86685657e-004 2.69131490e-002 8.61530075e-001]\n"
          ],
          "name": "stdout"
        },
        {
          "output_type": "display_data",
          "data": {
            "image/png": "[encoded data removed]",
            "text/plain": [
              "<Figure size 432x288 with 1 Axes>"
            ]
          },
          "metadata": {
            "tags": [],
            "needs_background": "light"
          }
        }
      ]
    },
    {
      "cell_type": "code",
      "metadata": {
        "colab": {
          "base_uri": "https://localhost:8080/"
        },
        "id": "l3-9V0o0A9Er",
        "outputId": "580861e8-c440-41d4-cee9-a1f21fbb0c29"
      },
      "source": [
        "import pandas as pd\n",
        "from sklearn.feature_selection import SelectKBest, f_classif\n",
        "#Suppose, we select 5 features with top 5 Fisher scores\n",
        "selector = SelectKBest(f_classif, k = 20)\n",
        "#New dataframe with the selected features for later use in the classifier. fit() method works too, if you want only the feature names and their corresponding scores\n",
        "X_new = selector.fit_transform(x_train, y_train)\n",
        "names = x_train.columns.values[selector.get_support()]\n",
        "scores = selector.scores_[selector.get_support()]\n",
        "names_scores = list(zip(names, scores))\n",
        "ns_df = pd.DataFrame(data = names_scores, columns=['Feat_names', 'F_Scores'])\n",
        "#Sort the dataframe for better visualization\n",
        "ns_df_sorted = ns_df.sort_values(['F_Scores', 'Feat_names'], ascending = [False, True])\n",
        "print(ns_df_sorted)"
      ],
      "execution_count": 87,
      "outputs": [
        {
          "output_type": "stream",
          "text": [
            "                                           Feat_names    F_Scores\n",
            "3   Company response to consumer_Closed with expla...  762.719089\n",
            "4   Company response to consumer_Closed with non-m...  566.253908\n",
            "15                                  Submitted via_Web  521.335652\n",
            "5   Company response to consumer_Closed with monet...  408.675243\n",
            "16                             Submitted via_Referral  220.717728\n",
            "7                                    Product_Mortgage  194.837830\n",
            "18                          Submitted via_Postal mail  155.434852\n",
            "9                            Product_Credit reporting  126.890813\n",
            "17                                Submitted via_Phone   52.039427\n",
            "6   Company response to consumer_Closed without re...   42.547472\n",
            "0   Company public response_Company chooses not to...   28.171241\n",
            "1   Company public response_Company believes it ac...   26.374334\n",
            "8                             Product_Debt collection   19.045840\n",
            "12                            Product_Money transfers   14.128677\n",
            "11                              Product_Consumer Loan   11.516444\n",
            "10                    Product_Bank account or service   11.461994\n",
            "19                                Tags_Older American   10.853078\n",
            "13                                Product_Payday loan    9.928052\n",
            "2   Company public response_Company believes compl...    9.541211\n",
            "14                               Product_Prepaid card    6.685646\n"
          ],
          "name": "stdout"
        },
        {
          "output_type": "stream",
          "text": [
            "/usr/local/lib/python3.7/dist-packages/sklearn/feature_selection/_univariate_selection.py:114: UserWarning: Features [13 14 15 16 17] are constant.\n",
            "  UserWarning)\n",
            "/usr/local/lib/python3.7/dist-packages/sklearn/feature_selection/_univariate_selection.py:115: RuntimeWarning: invalid value encountered in true_divide\n",
            "  f = msb / msw\n"
          ],
          "name": "stderr"
        }
      ]
    }
  ]
}